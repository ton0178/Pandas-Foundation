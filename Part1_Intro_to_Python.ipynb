{
  "cells": [
    {
      "cell_type": "markdown",
      "metadata": {
        "id": "view-in-github",
        "colab_type": "text"
      },
      "source": [
        "<a href=\"https://colab.research.google.com/github/ton0178/Pandas-Foundation/blob/main/Part1_Intro_to_Python.ipynb\" target=\"_parent\"><img src=\"https://colab.research.google.com/assets/colab-badge.svg\" alt=\"Open In Colab\"/></a>"
      ]
    },
    {
      "cell_type": "code",
      "source": [
        "print(\"Hello World\")"
      ],
      "execution_count": null,
      "outputs": [
        {
          "name": "stdout",
          "text": [
            "Hello World\n"
          ],
          "output_type": "stream"
        }
      ],
      "metadata": {
        "datalore": {
          "node_id": "PSDUnxSZ6buavEC8R214CF",
          "type": "CODE",
          "hide_input_from_viewers": true,
          "hide_output_from_viewers": true
        },
        "id": "4Ua6B9YoRS5X",
        "outputId": "3059302e-eb87-4703-fb67-1b5d6794b487"
      }
    },
    {
      "cell_type": "markdown",
      "source": [
        "**Review** Python"
      ],
      "metadata": {
        "datalore": {
          "node_id": "JbCKWutuqaDMcbz2kdVE5v",
          "type": "MD",
          "hide_input_from_viewers": true,
          "hide_output_from_viewers": true
        },
        "id": "p2ZOwucURS5Y"
      }
    },
    {
      "cell_type": "code",
      "source": [
        "my_name =\"Ton\"\n",
        "print(my_name)"
      ],
      "execution_count": null,
      "outputs": [
        {
          "name": "stdout",
          "text": [
            "Ton\n"
          ],
          "output_type": "stream"
        }
      ],
      "metadata": {
        "datalore": {
          "node_id": "cwNEzbyQ0sJhA8FGDs0mci",
          "type": "CODE",
          "hide_input_from_viewers": true,
          "hide_output_from_viewers": true
        },
        "id": "d-iPwhF0RS5Z",
        "outputId": "5ac2cdf4-ce8a-4fa2-b928-40e59f972e17"
      }
    },
    {
      "cell_type": "code",
      "source": [
        "print(1+1)\n",
        "print(2*2)"
      ],
      "execution_count": null,
      "outputs": [
        {
          "name": "stdout",
          "text": [
            "2\n",
            "4\n"
          ],
          "output_type": "stream"
        }
      ],
      "metadata": {
        "datalore": {
          "node_id": "uGINlEK5fFRT106STeIlxS",
          "type": "CODE",
          "hide_input_from_viewers": true,
          "hide_output_from_viewers": true
        },
        "id": "El65fjVjRS5Z",
        "outputId": "fe5c264d-b6ab-4c83-a4b7-03428ca694c9"
      }
    },
    {
      "cell_type": "code",
      "source": [
        "my_name = \"Ton\"\n",
        "my_uni = 'SUT'\n",
        "\n",
        "my_long = \"\"\"thsisi a very long\n",
        "   this a second\n",
        "   this a third\n",
        "\"\"\"\n",
        "print(my_name,my_uni,my_long)"
      ],
      "execution_count": null,
      "outputs": [
        {
          "name": "stdout",
          "text": [
            "Ton SUT thsisi a very long\n",
            "   this a second\n",
            "   this a third\n",
            "\n"
          ],
          "output_type": "stream"
        }
      ],
      "metadata": {
        "datalore": {
          "node_id": "JO9WodyM6aDRcDSf1EUle5",
          "type": "CODE",
          "hide_input_from_viewers": true,
          "hide_output_from_viewers": true
        },
        "id": "XeBIG_blRS5Z",
        "outputId": "3831af2b-8c00-4ba3-d1f4-c78f2652e6c6"
      }
    },
    {
      "cell_type": "code",
      "source": [
        "# fstring template\n",
        "my_name = \"Ton\"\n",
        "my_age = 30\n",
        "\n",
        "text = f\"my name is {my_name}, and I am {my_age} years old.\"\n",
        "print(text)"
      ],
      "execution_count": null,
      "outputs": [
        {
          "name": "stdout",
          "text": [
            "my name is Ton, and I am 30 years old.\n"
          ],
          "output_type": "stream"
        }
      ],
      "metadata": {
        "datalore": {
          "node_id": "lXdNXcYEqdfb2wuJwzu5o0",
          "type": "CODE",
          "hide_input_from_viewers": true,
          "hide_output_from_viewers": true
        },
        "id": "xupcvQgPRS5a",
        "outputId": "9aabb014-ebf8-4cb0-aa13-fdf9ff3053b7"
      }
    },
    {
      "cell_type": "code",
      "source": [
        "# function for string\n",
        "text = \"a duck walks into a bar\""
      ],
      "execution_count": null,
      "outputs": [],
      "metadata": {
        "datalore": {
          "node_id": "Gzz9RJtGsDBYC0SRIDMi3H",
          "type": "CODE",
          "hide_input_from_viewers": true,
          "hide_output_from_viewers": true
        },
        "id": "kxXF_EXRRS5a"
      }
    },
    {
      "cell_type": "code",
      "source": [
        "text.upper()"
      ],
      "execution_count": null,
      "outputs": [
        {
          "data": {
            "text/plain": [
              "'MY NAME IS TON, AND I AM 30 YEARS OLD.'"
            ]
          },
          "metadata": {},
          "output_type": "display_data"
        }
      ],
      "metadata": {
        "datalore": {
          "node_id": "AuzzA7OkwZKcdqjALqMuvO",
          "type": "CODE",
          "hide_input_from_viewers": true,
          "hide_output_from_viewers": true
        },
        "id": "qx6ZwU3NRS5a",
        "outputId": "04191cc5-e162-44fc-8100-23f7391cffe2"
      }
    },
    {
      "cell_type": "code",
      "source": [
        "\"HELLO\".lower()"
      ],
      "execution_count": null,
      "outputs": [
        {
          "data": {
            "text/plain": [
              "'hello'"
            ]
          },
          "metadata": {},
          "output_type": "display_data"
        }
      ],
      "metadata": {
        "datalore": {
          "node_id": "lPGMUYznIBDWl99WEq5t2Z",
          "type": "CODE",
          "hide_input_from_viewers": true,
          "hide_output_from_viewers": true
        },
        "id": "uBKdG99ERS5a",
        "outputId": "7b417c41-7fbe-4774-a501-9eae0c9d01b3"
      }
    },
    {
      "cell_type": "code",
      "source": [
        "text.count(\"a\")"
      ],
      "execution_count": null,
      "outputs": [
        {
          "data": {
            "text/plain": [
              "4"
            ]
          },
          "metadata": {},
          "output_type": "display_data"
        }
      ],
      "metadata": {
        "datalore": {
          "node_id": "TBFIWDpDlYzf8zTdN0XJfn",
          "type": "CODE",
          "hide_input_from_viewers": true,
          "hide_output_from_viewers": true
        },
        "id": "9El13rTHRS5a",
        "outputId": "1f1a6aa6-1788-41e0-ffcc-cc4a213c716b"
      }
    },
    {
      "cell_type": "code",
      "source": [
        "text2 = text.replace('duck','lion')\n",
        "print(text)\n",
        "print(text2)"
      ],
      "execution_count": null,
      "outputs": [
        {
          "name": "stdout",
          "text": [
            "my name is Ton, and I am 30 years old.\n",
            "my name is Ton, and I am 30 years old.\n"
          ],
          "output_type": "stream"
        }
      ],
      "metadata": {
        "datalore": {
          "node_id": "at9rR5Y8q0zXbfoLHHVMd2",
          "type": "CODE",
          "hide_input_from_viewers": true,
          "hide_output_from_viewers": true
        },
        "id": "Efd6WWwURS5b",
        "outputId": "2e0a4a0e-d21b-443b-a272-f4e2749bf57b"
      }
    },
    {
      "cell_type": "code",
      "source": [
        "# list\n",
        "shopping_list = ['egg','milk','bread']\n",
        "print(shopping_list)"
      ],
      "execution_count": null,
      "outputs": [
        {
          "name": "stdout",
          "text": [
            "['egg', 'milk', 'bread']\n"
          ],
          "output_type": "stream"
        }
      ],
      "metadata": {
        "datalore": {
          "node_id": "5igieEjoN8A4PwZaHVe2uK",
          "type": "CODE",
          "hide_input_from_viewers": true,
          "hide_output_from_viewers": true
        },
        "id": "6Fce6M-DRS5b",
        "outputId": "68af6b61-3a2a-48b4-8ec5-ec379c439252"
      }
    },
    {
      "cell_type": "code",
      "source": [
        "print(shopping_list[0])"
      ],
      "execution_count": null,
      "outputs": [
        {
          "name": "stdout",
          "text": [
            "egg\n"
          ],
          "output_type": "stream"
        }
      ],
      "metadata": {
        "datalore": {
          "node_id": "dqFaIpdITLL8TzoWYBvyMu",
          "type": "CODE",
          "hide_input_from_viewers": true,
          "hide_output_from_viewers": true
        },
        "id": "nDtd8JdJRS5b",
        "outputId": "d5f88318-d03f-499f-dac3-4682a19b7879"
      }
    },
    {
      "cell_type": "code",
      "source": [
        "print(shopping_list[0:2])"
      ],
      "execution_count": null,
      "outputs": [
        {
          "name": "stdout",
          "text": [
            "['egg', 'milk']\n"
          ],
          "output_type": "stream"
        }
      ],
      "metadata": {
        "datalore": {
          "node_id": "ssG5NqrBL1FbTT43ixs4ta",
          "type": "CODE",
          "hide_input_from_viewers": true,
          "hide_output_from_viewers": true
        },
        "id": "AnsM7xwYRS5b",
        "outputId": "a1d3c73d-50dd-4e4a-bca5-a22068952351"
      }
    },
    {
      "cell_type": "code",
      "source": [
        "shopping_list.append('orange juice')\n",
        "print(shopping_list)"
      ],
      "execution_count": null,
      "outputs": [
        {
          "name": "stdout",
          "text": [
            "['egg', 'milk', 'bread', 'orange juice']\n"
          ],
          "output_type": "stream"
        }
      ],
      "metadata": {
        "datalore": {
          "node_id": "jmqiCSjpQKorz2APInXjmn",
          "type": "CODE",
          "hide_input_from_viewers": true,
          "hide_output_from_viewers": true
        },
        "id": "B9cgpcZyRS5b",
        "outputId": "22a97fd0-3666-452e-edd4-9632c90af0af"
      }
    },
    {
      "cell_type": "code",
      "source": [
        "shopping_list.append('water bottle')\n",
        "print(shopping_list)"
      ],
      "execution_count": null,
      "outputs": [
        {
          "name": "stdout",
          "text": [
            "['egg', 'milk', 'bread', 'orange juice', 'water bottle', 'water bottle']\n"
          ],
          "output_type": "stream"
        }
      ],
      "metadata": {
        "datalore": {
          "node_id": "lQWdskrn3MPoj9RNJkgYx4",
          "type": "CODE",
          "hide_input_from_viewers": true,
          "hide_output_from_viewers": true
        },
        "id": "4KUch0NxRS5c",
        "outputId": "fe415b0d-5f20-43f0-eb55-630b8b3d7a50"
      }
    },
    {
      "cell_type": "code",
      "source": [
        "shopping_list.pop()"
      ],
      "execution_count": null,
      "outputs": [
        {
          "data": {
            "text/plain": [
              "'water bottle'"
            ]
          },
          "metadata": {},
          "output_type": "display_data"
        }
      ],
      "metadata": {
        "datalore": {
          "node_id": "J3Qt6jC6H2fzgAzxkzpNjd",
          "type": "CODE",
          "hide_input_from_viewers": true,
          "hide_output_from_viewers": true
        },
        "id": "Se5AkARsRS5c",
        "outputId": "eb277ff2-9e75-4875-8bdd-85761c387a8e"
      }
    },
    {
      "cell_type": "code",
      "source": [
        "shopping_list"
      ],
      "execution_count": null,
      "outputs": [
        {
          "data": {
            "text/plain": [
              "['egg', 'milk', 'bread', 'orange juice']"
            ]
          },
          "metadata": {},
          "output_type": "display_data"
        }
      ],
      "metadata": {
        "datalore": {
          "node_id": "hWVdrSPdkdNKALkcYYXYnk",
          "type": "CODE",
          "hide_input_from_viewers": true,
          "hide_output_from_viewers": true
        },
        "id": "CuoR53Q6RS5c",
        "outputId": "9e15dcff-d283-4f55-94b2-6c472b2ee808"
      }
    },
    {
      "cell_type": "code",
      "source": [
        "len(shopping_list)"
      ],
      "execution_count": null,
      "outputs": [
        {
          "data": {
            "text/plain": [
              "4"
            ]
          },
          "metadata": {},
          "output_type": "display_data"
        }
      ],
      "metadata": {
        "datalore": {
          "node_id": "V8a9Csr2p7tXjgeHqaosvT",
          "type": "CODE",
          "hide_input_from_viewers": true,
          "hide_output_from_viewers": true
        },
        "id": "P23RW5foRS5c",
        "outputId": "eae1b0d9-e8f6-46b1-ae85-c04c2eb63c09"
      }
    },
    {
      "cell_type": "code",
      "source": [
        "# dictionary\n",
        "student = {\n",
        "    \"id\":1,\n",
        "    \"name\":\"Mary\",\n",
        "    \"age\":22,\n",
        "    \"movies\":[\"Spider Man\",\"Thor\",\"Iron Man 3\"]\n",
        "}"
      ],
      "execution_count": null,
      "outputs": [],
      "metadata": {
        "datalore": {
          "node_id": "NepGZTHVGXls28c2YDCSIe",
          "type": "CODE",
          "hide_input_from_viewers": true,
          "hide_output_from_viewers": true
        },
        "id": "xYHFNo8ERS5c"
      }
    },
    {
      "cell_type": "code",
      "source": [
        "student"
      ],
      "execution_count": null,
      "outputs": [
        {
          "data": {
            "text/plain": [
              "{'id': 1,\n",
              " 'name': 'Mary',\n",
              " 'age': 22,\n",
              " 'movies': ['Spider Man', 'Thor', 'Iron Man 3']}"
            ]
          },
          "metadata": {},
          "output_type": "display_data"
        }
      ],
      "metadata": {
        "datalore": {
          "node_id": "fX4aoyukplhabg4nHkmZKD",
          "type": "CODE",
          "hide_input_from_viewers": true,
          "hide_output_from_viewers": true
        },
        "id": "EwvTS6-bRS5c",
        "outputId": "d866d163-be06-41c1-b0e7-a650489ae980"
      }
    },
    {
      "cell_type": "code",
      "source": [
        "type(student)"
      ],
      "execution_count": null,
      "outputs": [
        {
          "data": {
            "text/plain": [
              "dict"
            ]
          },
          "metadata": {},
          "output_type": "display_data"
        }
      ],
      "metadata": {
        "datalore": {
          "node_id": "9muChr2tEu938UCBxByQgU",
          "type": "CODE",
          "hide_input_from_viewers": true,
          "hide_output_from_viewers": true
        },
        "id": "F22PEvz4RS5c",
        "outputId": "d9f83c03-f9e4-405b-e5aa-7dfffb661ce2"
      }
    },
    {
      "cell_type": "code",
      "source": [
        "student['name']"
      ],
      "execution_count": null,
      "outputs": [
        {
          "data": {
            "text/plain": [
              "'Mary'"
            ]
          },
          "metadata": {},
          "output_type": "display_data"
        }
      ],
      "metadata": {
        "datalore": {
          "node_id": "VMirtgXZn61HJsXkAeWTcf",
          "type": "CODE",
          "hide_input_from_viewers": true,
          "hide_output_from_viewers": true
        },
        "id": "0puqqwhkRS5c",
        "outputId": "e85bcba5-6543-4350-eb74-2b4b08ee656d"
      }
    },
    {
      "cell_type": "code",
      "source": [
        "student['movies']"
      ],
      "execution_count": null,
      "outputs": [
        {
          "data": {
            "text/plain": [
              "['Spider Man', 'Thor', 'Iron Man 3']"
            ]
          },
          "metadata": {},
          "output_type": "display_data"
        }
      ],
      "metadata": {
        "datalore": {
          "node_id": "Hy2I3IzJ6vX9SyxlbJUkMz",
          "type": "CODE",
          "hide_input_from_viewers": true,
          "hide_output_from_viewers": true
        },
        "id": "UqBxJhA2RS5d",
        "outputId": "ea195eef-e774-4cf4-f4e0-5fc5c0090a04"
      }
    },
    {
      "cell_type": "code",
      "source": [
        "student['movies'][0]"
      ],
      "execution_count": null,
      "outputs": [
        {
          "data": {
            "text/plain": [
              "'Spider Man'"
            ]
          },
          "metadata": {},
          "output_type": "display_data"
        }
      ],
      "metadata": {
        "datalore": {
          "node_id": "fkxSHskU6QRaOaHbw1VGzN",
          "type": "CODE",
          "hide_input_from_viewers": true,
          "hide_output_from_viewers": true
        },
        "id": "0Dp0UjrcRS5d",
        "outputId": "db16f227-7a12-4e67-ed1b-7a2c1164b21a"
      }
    },
    {
      "cell_type": "code",
      "source": [
        "student['city'] = 'London'\n",
        "student"
      ],
      "execution_count": null,
      "outputs": [
        {
          "data": {
            "text/plain": [
              "{'id': 1,\n",
              " 'name': 'Mary',\n",
              " 'age': 22,\n",
              " 'movies': ['Spider Man', 'Thor', 'Iron Man 3'],\n",
              " 'city': 'London'}"
            ]
          },
          "metadata": {},
          "output_type": "display_data"
        }
      ],
      "metadata": {
        "datalore": {
          "node_id": "QFVspEXEg2Wu2j6oJOLLsg",
          "type": "CODE",
          "hide_input_from_viewers": true,
          "hide_output_from_viewers": true
        },
        "id": "C1OMiU_TRS5d",
        "outputId": "3f682992-eccf-4056-8cab-0051e1296f19"
      }
    },
    {
      "cell_type": "code",
      "source": [
        "# update value\n",
        "student['city'] = 'Manchester'\n",
        "student"
      ],
      "execution_count": null,
      "outputs": [
        {
          "data": {
            "text/plain": [
              "{'id': 1,\n",
              " 'name': 'Mary',\n",
              " 'age': 22,\n",
              " 'movies': ['Spider Man', 'Thor', 'Iron Man 3'],\n",
              " 'city': 'Manchester'}"
            ]
          },
          "metadata": {},
          "output_type": "display_data"
        }
      ],
      "metadata": {
        "datalore": {
          "node_id": "v8hv9rm8MOzw20i90Gp7tS",
          "type": "CODE",
          "hide_input_from_viewers": true,
          "hide_output_from_viewers": true
        },
        "id": "t5DffRMeRS5d",
        "outputId": "dc11d229-42ae-45f0-f65e-2752f7acc303"
      }
    },
    {
      "cell_type": "code",
      "source": [
        "del student['city']\n",
        "student"
      ],
      "execution_count": null,
      "outputs": [
        {
          "data": {
            "text/plain": [
              "{'id': 1,\n",
              " 'name': 'Mary',\n",
              " 'age': 22,\n",
              " 'movies': ['Spider Man', 'Thor', 'Iron Man 3']}"
            ]
          },
          "metadata": {},
          "output_type": "display_data"
        }
      ],
      "metadata": {
        "datalore": {
          "node_id": "g1KbH57h8tA1pK7FSSQe5g",
          "type": "CODE",
          "hide_input_from_viewers": true,
          "hide_output_from_viewers": true
        },
        "id": "QAR7SfP_RS5d",
        "outputId": "5c18efe2-83d8-4bae-fc81-4e1f77f3ed39"
      }
    },
    {
      "cell_type": "code",
      "source": [
        "# user-definded function\n",
        "def hello(username):\n",
        "    print(\"Hello! \"+ username)"
      ],
      "execution_count": null,
      "outputs": [],
      "metadata": {
        "datalore": {
          "node_id": "eLwRXO9AGvFK38MSwtvRcu",
          "type": "CODE",
          "hide_input_from_viewers": true,
          "hide_output_from_viewers": true
        },
        "id": "rTboUX8URS5d"
      }
    },
    {
      "cell_type": "code",
      "source": [
        "hello(\"Ton\")"
      ],
      "execution_count": null,
      "outputs": [
        {
          "name": "stdout",
          "text": [
            "Hello! Ton\n"
          ],
          "output_type": "stream"
        }
      ],
      "metadata": {
        "datalore": {
          "node_id": "qLSW25DfHgitwxVlZUSHHK",
          "type": "CODE",
          "hide_input_from_viewers": true,
          "hide_output_from_viewers": true
        },
        "id": "J6ia6PU2RS5d",
        "outputId": "9c5716e3-c650-4c45-808c-a9d0c33c5e5c"
      }
    },
    {
      "cell_type": "code",
      "source": [
        "def my_sum(val1,val2):\n",
        "    return val1 + val2\n",
        "\n",
        "result = my_sum(5,15)"
      ],
      "execution_count": null,
      "outputs": [],
      "metadata": {
        "datalore": {
          "node_id": "Pwi4IxhB2dpvew3wnCwJJG",
          "type": "CODE",
          "hide_input_from_viewers": true,
          "hide_output_from_viewers": true
        },
        "id": "7VxtXx3JRS5d"
      }
    },
    {
      "cell_type": "code",
      "source": [
        "print(result)"
      ],
      "execution_count": null,
      "outputs": [
        {
          "name": "stdout",
          "text": [
            "20\n"
          ],
          "output_type": "stream"
        }
      ],
      "metadata": {
        "datalore": {
          "node_id": "9x25yagzCDVFDpVVv9Sybk",
          "type": "CODE",
          "hide_input_from_viewers": true,
          "hide_output_from_viewers": true
        },
        "id": "-f77f7xeRS5e",
        "outputId": "23592630-7bc1-4599-b45e-153748be5557"
      }
    },
    {
      "cell_type": "code",
      "source": [
        "# OOP\n",
        "class Dog:\n",
        "    # attribute\n",
        "    name = \"Toy\"\n",
        "    age = 5\n",
        "    color = \"Brown\"\n",
        "    breed = \"French Bulldog\"\n",
        "\n",
        "    # function\n",
        "    def sitting(self):\n",
        "        print(\"I am sitting now!\")\n",
        "\n",
        "    def hungry(self, food_name):\n",
        "        print(f\"I am hungry, I need {food_name}!\")"
      ],
      "execution_count": null,
      "outputs": [],
      "metadata": {
        "datalore": {
          "node_id": "mALY7lr4glB1MCxHbQ85eT",
          "type": "CODE",
          "hide_input_from_viewers": true,
          "hide_output_from_viewers": true
        },
        "id": "GM-2XeJiRS5e"
      }
    },
    {
      "cell_type": "code",
      "source": [
        "my_dog = Dog()\n",
        "type(my_dog)"
      ],
      "execution_count": null,
      "outputs": [
        {
          "data": {
            "text/plain": [
              "__main__.Dog"
            ]
          },
          "metadata": {},
          "output_type": "display_data"
        }
      ],
      "metadata": {
        "datalore": {
          "node_id": "GiqUfLGlC6lEfbJ5zWE8gE",
          "type": "CODE",
          "hide_input_from_viewers": true,
          "hide_output_from_viewers": true
        },
        "id": "fD_gKiFXRS5e",
        "outputId": "e773026c-169a-4c30-e040-d723cfd3af70"
      }
    },
    {
      "cell_type": "code",
      "source": [
        "my_dog.age"
      ],
      "execution_count": null,
      "outputs": [
        {
          "data": {
            "text/plain": [
              "5"
            ]
          },
          "metadata": {},
          "output_type": "display_data"
        }
      ],
      "metadata": {
        "datalore": {
          "node_id": "iLRAwz8tCcQHavWHse4L6v",
          "type": "CODE",
          "hide_input_from_viewers": true,
          "hide_output_from_viewers": true
        },
        "id": "d8nLurA6RS5e",
        "outputId": "feefac0a-8513-4fee-8a0a-c551149e777d"
      }
    },
    {
      "cell_type": "code",
      "source": [
        "my_dog.sitting()"
      ],
      "execution_count": null,
      "outputs": [
        {
          "name": "stdout",
          "text": [
            "I am sitting now!\n"
          ],
          "output_type": "stream"
        }
      ],
      "metadata": {
        "datalore": {
          "node_id": "7nYah5R1pD7StI2EoQ0Ng4",
          "type": "CODE",
          "hide_input_from_viewers": true,
          "hide_output_from_viewers": true
        },
        "id": "Aq_nd13ZRS5e",
        "outputId": "e7cf98b8-350c-4637-b5fd-c9c08b79d2d4"
      }
    },
    {
      "cell_type": "code",
      "source": [
        "my_dog.hungry(\"Hotdog\")"
      ],
      "execution_count": null,
      "outputs": [
        {
          "name": "stdout",
          "text": [
            "I am hungry, I need Hotdog!\n"
          ],
          "output_type": "stream"
        }
      ],
      "metadata": {
        "datalore": {
          "node_id": "QejaJYwTCjheKVSPCN6YsZ",
          "type": "CODE",
          "hide_input_from_viewers": true,
          "hide_output_from_viewers": true
        },
        "id": "bJ398IDeRS5e",
        "outputId": "6b1b0d0e-1685-4e1e-b41c-e86daf075001"
      }
    },
    {
      "cell_type": "code",
      "source": [],
      "execution_count": null,
      "outputs": [],
      "metadata": {
        "datalore": {
          "node_id": "xCfpAXDTEUDACM8bH7jlmJ",
          "type": "CODE",
          "hide_input_from_viewers": true,
          "hide_output_from_viewers": true
        },
        "id": "C8DkViWpRS5e"
      }
    }
  ],
  "metadata": {
    "kernelspec": {
      "display_name": "Python",
      "language": "python",
      "name": "python"
    },
    "datalore": {
      "computation_mode": "JUPYTER",
      "package_manager": "pip",
      "base_environment": "default",
      "packages": [],
      "report_row_ids": [],
      "version": 3
    },
    "colab": {
      "provenance": [],
      "include_colab_link": true
    }
  },
  "nbformat": 4,
  "nbformat_minor": 0
}